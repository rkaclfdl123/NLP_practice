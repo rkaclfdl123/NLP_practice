{
  "nbformat": 4,
  "nbformat_minor": 0,
  "metadata": {
    "colab": {
      "name": "Bag of Words.ipynb",
      "provenance": [],
      "collapsed_sections": [],
      "authorship_tag": "ABX9TyNZHYv3ts5ovnfUi7wsitVC",
      "include_colab_link": true
    },
    "kernelspec": {
      "name": "python3",
      "display_name": "Python 3"
    },
    "language_info": {
      "name": "python"
    }
  },
  "cells": [
    {
      "cell_type": "markdown",
      "metadata": {
        "id": "view-in-github",
        "colab_type": "text"
      },
      "source": [
        "<a href=\"https://colab.research.google.com/github/rkaclfdl123/NLP_practice/blob/main/Bag_of_Words.ipynb\" target=\"_parent\"><img src=\"https://colab.research.google.com/assets/colab-badge.svg\" alt=\"Open In Colab\"/></a>"
      ]
    },
    {
      "cell_type": "markdown",
      "source": [
        "## OKT 형태소 분석기"
      ],
      "metadata": {
        "id": "cm7_qTqt_lf8"
      }
    },
    {
      "cell_type": "code",
      "source": [
        "#예시\n",
        "text = \"한글 자연어 처리는 재밌다. 이제부터 열심히 해야지ㅎㅎㅎㅎ\"\n",
        "\n",
        "print(okt.morphs(text))\n",
        "print(okt.morphs(text, stem = True)) #stem = True 옵션으로"
      ],
      "metadata": {
        "colab": {
          "base_uri": "https://localhost:8080/"
        },
        "id": "tpSbPEhe_xpF",
        "outputId": "513bd1cd-d99d-460e-db44-25984d5f6af7"
      },
      "execution_count": null,
      "outputs": [
        {
          "output_type": "stream",
          "name": "stdout",
          "text": [
            "['한글', '자연어', '처리', '는', '재밌다', '.', '이제', '부터', '열심히', '해야지', 'ㅎㅎㅎㅎ']\n",
            "['한글', '자연어', '처리', '는', '재밌다', '.', '이제', '부터', '열심히', '하다', 'ㅎㅎㅎㅎ']\n"
          ]
        }
      ]
    },
    {
      "cell_type": "markdown",
      "source": [
        "해야지 >> 하다 어간으로 바뀜\n",
        "<br>\n",
        "<br>\n",
        "<br>\n",
        "<br>\n",
        "<br>\n",
        "\n",
        "\n",
        "\n",
        "\n",
        "\n"
      ],
      "metadata": {
        "id": "hdZ9DKBI_8MD"
      }
    },
    {
      "cell_type": "markdown",
      "source": [
        "##Bag of Words\n",
        "- 단어의 등장순서를 고려하지 않은 빈도수 기반의 단어 표현 방법임.\n",
        "- 분류 문제나 문서간의 유사도를 구하는 문제에 쓰임.\n",
        "\n",
        "<br>\n",
        "<br>\n",
        "<br>\n",
        "\n",
        "## 동작 방식\n",
        "\n",
        "### 1. 각 단어에 고유한 정수 인덱스 부여\n",
        "### 2. 각 인덱스의 위치에 단어 토큰의 등장 횟수를 기록한 벡터 생성"
      ],
      "metadata": {
        "id": "eqJsjN0xARdW"
      }
    },
    {
      "cell_type": "code",
      "execution_count": null,
      "metadata": {
        "colab": {
          "base_uri": "https://localhost:8080/"
        },
        "id": "kWtMoMQ1-UWc",
        "outputId": "20649688-a5f4-4d38-f314-b169ae377d52"
      },
      "outputs": [
        {
          "output_type": "stream",
          "name": "stdout",
          "text": [
            "Successfully installed JPype1-1.3.0 beautifulsoup4-4.6.0 colorama-0.4.4 konlpy-0.5.2\n"
          ]
        }
      ],
      "source": [
        "!pip install konlpy\n",
        "from konlpy.tag import Okt\n",
        "import re  \n",
        "okt = Okt()  \n",
        "\n",
        "# 정규 표현식을 통해 온점을 제거하는 정제 작업.  \n",
        "token = re.sub(\"(\\.)\",\"\",\"정부가 발표하는 물가상승률과 소비자가 느끼는 물가상승률은 다르다.\")  \n",
        "\n",
        "# OKT 형태소 분석기를 통해 토큰화 작업을 수행한 뒤에, token에다가 넣음.  \n",
        "token = okt.morphs(token)  \n"
      ]
    },
    {
      "cell_type": "code",
      "source": [
        "token"
      ],
      "metadata": {
        "colab": {
          "base_uri": "https://localhost:8080/"
        },
        "id": "igjSbhl6-ko2",
        "outputId": "2ce94178-be1c-40d8-cefd-158f8f36a26f"
      },
      "execution_count": null,
      "outputs": [
        {
          "output_type": "execute_result",
          "data": {
            "text/plain": [
              "['정부', '가', '발표', '하는', '물가상승률', '과', '소비자', '가', '느끼는', '물가상승률', '은', '다르다']"
            ]
          },
          "metadata": {},
          "execution_count": 3
        }
      ]
    },
    {
      "cell_type": "code",
      "source": [
        "\n",
        "word2index = {}  \n",
        "bow = []  \n",
        "for voca in token:  \n",
        "# token을 읽으면서, word2index에 없는 (not in) 단어는 새로 추가하고, 이미 있는 단어는 넘깁니다.   \n",
        "         if voca not in word2index.keys():  \n",
        "             word2index[voca] = len(word2index)  \n",
        "             # BoW 전체에 전부 기본값 1을 넣는다.\n",
        "             bow.insert(len(word2index)-1,1)\n",
        "         else:\n",
        "            # 재등장하는 단어의 인덱스\n",
        "            index = word2index.get(voca)\n",
        "\n",
        "            # 재등장한 단어는 해당하는 인덱스의 위치에 1을 더한다.\n",
        "            bow[index] = bow[index]+1\n",
        "\n",
        "print(word2index)  "
      ],
      "metadata": {
        "colab": {
          "base_uri": "https://localhost:8080/"
        },
        "id": "WHhrbwAt-XaY",
        "outputId": "8f030527-867e-4d00-8846-6fd59e538474"
      },
      "execution_count": null,
      "outputs": [
        {
          "output_type": "stream",
          "name": "stdout",
          "text": [
            "{'정부': 0, '가': 1, '발표': 2, '하는': 3, '물가상승률': 4, '과': 5, '소비자': 6, '느끼는': 7, '은': 8, '다르다': 9}\n"
          ]
        }
      ]
    },
    {
      "cell_type": "code",
      "source": [
        "bow # 가, 물가상승률이 2번씩 나옴"
      ],
      "metadata": {
        "colab": {
          "base_uri": "https://localhost:8080/"
        },
        "id": "ceM1Q6XmAgWC",
        "outputId": "f188ba2c-31af-4e8e-a397-8f14568b0a38"
      },
      "execution_count": null,
      "outputs": [
        {
          "output_type": "execute_result",
          "data": {
            "text/plain": [
              "[1, 2, 1, 1, 2, 1, 1, 1, 1, 1]"
            ]
          },
          "metadata": {},
          "execution_count": 6
        }
      ]
    },
    {
      "cell_type": "markdown",
      "source": [
        "## CountVectorizer 클래스로 BoW 만들기\n",
        "- 사이킷 런 CountVectorizer 로 BOW 만들기\n",
        "\n",
        "<br>\n",
        "<br>\n",
        "<br>\n",
        "<br>\n"
      ],
      "metadata": {
        "id": "-bmybGO4CFcG"
      }
    },
    {
      "cell_type": "code",
      "source": [
        "from sklearn.feature_extraction.text import CountVectorizer\n",
        "corpus = ['you know I want your love. because I love you.']\n",
        "vector = CountVectorizer()\n",
        "\n",
        "# 코퍼스로부터 각 단어의 빈도수를 기록\n",
        "print(vector.fit_transform(corpus).toarray()) \n",
        "\n",
        "# 각 단어의 인덱스가 어떻게 부여되었는지를 출력\n",
        "print(vector.vocabulary_) \n"
      ],
      "metadata": {
        "colab": {
          "base_uri": "https://localhost:8080/"
        },
        "id": "461jSWATCP8Y",
        "outputId": "5ef9eaa8-53c3-42e8-9f3d-2fe0c21aaa3a"
      },
      "execution_count": null,
      "outputs": [
        {
          "output_type": "stream",
          "name": "stdout",
          "text": [
            "[[1 1 2 1 2 1]]\n",
            "{'you': 4, 'know': 1, 'want': 3, 'your': 5, 'love': 2, 'because': 0}\n"
          ]
        }
      ]
    },
    {
      "cell_type": "code",
      "source": [
        "print(vector.fit_transform(corpus))"
      ],
      "metadata": {
        "colab": {
          "base_uri": "https://localhost:8080/"
        },
        "id": "ErIX91rjCP6q",
        "outputId": "08422cb3-f99a-47e5-a5f9-a4d848b04ffb"
      },
      "execution_count": null,
      "outputs": [
        {
          "output_type": "stream",
          "name": "stdout",
          "text": [
            "  (0, 4)\t2\n",
            "  (0, 1)\t1\n",
            "  (0, 3)\t1\n",
            "  (0, 5)\t1\n",
            "  (0, 2)\t2\n",
            "  (0, 0)\t1\n"
          ]
        }
      ]
    },
    {
      "cell_type": "code",
      "source": [
        "# 사용자가 직접 정의한 불용어 사용\n",
        "from sklearn.feature_extraction.text import CountVectorizer\n",
        "from nltk.corpus import stopwords\n",
        "\n",
        "text = [\"Family is not an important thing. It's everything.\"]\n",
        "vect = CountVectorizer(stop_words=[\"the\", \"a\", \"an\", \"is\", \"not\"])\n",
        "print(vect.fit_transform(text).toarray()) \n",
        "print(vect.vocabulary_)\n"
      ],
      "metadata": {
        "colab": {
          "base_uri": "https://localhost:8080/"
        },
        "id": "h486yOgxB86y",
        "outputId": "5b39c32d-c2fe-4a36-d313-9057a10820a0"
      },
      "execution_count": null,
      "outputs": [
        {
          "output_type": "stream",
          "name": "stdout",
          "text": [
            "[[1 1 1 1 1]]\n",
            "{'family': 1, 'important': 2, 'thing': 4, 'it': 3, 'everything': 0}\n"
          ]
        }
      ]
    },
    {
      "cell_type": "code",
      "source": [
        "# CountVectorizer 라이브러리에서 제공하는 자체 불용어 사용\n",
        "text = [\"Family is not an important thing. It's everything.\"]\n",
        "vect = CountVectorizer(stop_words=\"english\")\n",
        "print(vect.fit_transform(text).toarray())\n",
        "print(vect.vocabulary_)"
      ],
      "metadata": {
        "colab": {
          "base_uri": "https://localhost:8080/"
        },
        "id": "nJVj5rJHB89L",
        "outputId": "8fe5b6e7-07b4-4839-8bfa-e31511e0274b"
      },
      "execution_count": null,
      "outputs": [
        {
          "output_type": "stream",
          "name": "stdout",
          "text": [
            "[[1 1 1]]\n",
            "{'family': 0, 'important': 1, 'thing': 2}\n"
          ]
        }
      ]
    },
    {
      "cell_type": "code",
      "source": [
        ""
      ],
      "metadata": {
        "id": "MwrLt1IuEz6W"
      },
      "execution_count": null,
      "outputs": []
    }
  ]
}