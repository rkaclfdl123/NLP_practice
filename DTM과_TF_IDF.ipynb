{
  "nbformat": 4,
  "nbformat_minor": 0,
  "metadata": {
    "colab": {
      "name": "DTM과 TF-IDF.ipynb",
      "provenance": [],
      "collapsed_sections": [],
      "authorship_tag": "ABX9TyO6Akyd1rQ3Uelzxr2FFK3F",
      "include_colab_link": true
    },
    "kernelspec": {
      "name": "python3",
      "display_name": "Python 3"
    },
    "language_info": {
      "name": "python"
    }
  },
  "cells": [
    {
      "cell_type": "markdown",
      "metadata": {
        "id": "view-in-github",
        "colab_type": "text"
      },
      "source": [
        "<a href=\"https://colab.research.google.com/github/rkaclfdl123/NLP_practice/blob/main/DTM%EA%B3%BC_TF_IDF.ipynb\" target=\"_parent\"><img src=\"https://colab.research.google.com/assets/colab-badge.svg\" alt=\"Open In Colab\"/></a>"
      ]
    },
    {
      "cell_type": "markdown",
      "source": [
        "# 문서 단어 행렬(DTM)\n",
        "- 각 문서에서 등장한 단어의 빈도를 행렬 값으로 표기 한 것\n",
        "- 서로 비교할 수 있도록 수치화 할 수 있다는 장점\n",
        "- 각각의 BOW를 합친 것\n",
        "\n",
        "<br>\n",
        "<br>\n",
        "<br>\n",
        "\n",
        "## 문서 단어 행렬의 한계\n",
        "1. 희소 표현\n",
        "    - 원-핫 벡터처럼 1보다 0이 더많아 짐>>공간적 낭비와 리소스 증가 시킴\n",
        "2. 단어 빈도수 기반 접근\n",
        "    - the는 어느 문서에나 나오지만 유사도를 구하긴 힘듬.\n",
        "\n",
        "\n",
        "<br>\n",
        "<br>\n",
        "\n",
        "> DTM에 불용어와 중요한 단어에 대해서 가중치를 줄 수 있는 방법은 없을까??\n",
        "> TF-IDF "
      ],
      "metadata": {
        "id": "0OMiJvz9HLUz"
      }
    },
    {
      "cell_type": "markdown",
      "source": [
        "# 1. TF-IDF (단어 빈도-역 문서 빈도)\n",
        "- DTM 내의 각 단어들마다 중요도 정도를 가중치로 주는 방법\n",
        "- **(중요)모든 문서에서 자주 등장하는 단어는 중요도가 낮고 특정 문서에서만 자주 등장하면 중요도가 높다고 판단**\n",
        "\n",
        "<br>\n",
        "\n",
        "\n",
        "## 사용방법\n",
        "1. DTM을 만듬 \n",
        "2.  TF-IDF 로 가중치 부여\n",
        "\n",
        "<br>\n",
        "\n",
        "\n",
        "- TF-IDF는 주로 문서의 유사도를 구하는 작업, 검색 시스템에서 검색 결과의 중요도를 정하는 작업, 문서 내에서 단어의 중요도를 구하는 작업 등에 쓰일 수 있음.\n",
        "\n",
        "\n",
        "<br>\n",
        "<br>\n"
      ],
      "metadata": {
        "id": "ZLE5j_AOIspy"
      }
    },
    {
      "cell_type": "markdown",
      "source": [
        "# 2. TF-IDF 내가 이해한 것\n",
        "- TF 는 문서에서 특정 단어가 몇번 나왔는 지 횟수임\n",
        "- IDF 는 모든 문서에서 특정 단어가 나왔나 나오지 않았나로 중요도를 판별\n",
        "- TF x IDF 임\n",
        "- 특정 문서에서만(IDF) 횟수가 많으면(TF) 중요도(TF-IDF)가 올라감\n",
        "\n",
        "<br>\n",
        "<br>\n",
        "<br>\n",
        "<br>\n",
        "<br>\n",
        "\n"
      ],
      "metadata": {
        "id": "4jrwg4XFLw3D"
      }
    }
  ]
}